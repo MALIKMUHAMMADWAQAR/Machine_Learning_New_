{
 "cells": [
  {
   "cell_type": "code",
   "execution_count": 2,
   "metadata": {},
   "outputs": [],
   "source": [
    "import numpy as np\n"
   ]
  },
  {
   "cell_type": "code",
   "execution_count": 4,
   "metadata": {},
   "outputs": [
    {
     "data": {
      "text/plain": [
       "array([[1, 2, 3],\n",
       "       [4, 5, 6],\n",
       "       [7, 8, 9]])"
      ]
     },
     "execution_count": 4,
     "metadata": {},
     "output_type": "execute_result"
    }
   ],
   "source": [
    "np.array([[1,2,3],[4,5,6],[7,8,9]])"
   ]
  },
  {
   "cell_type": "markdown",
   "metadata": {},
   "source": [
    "# Defining a 3 dimensional array"
   ]
  },
  {
   "cell_type": "code",
   "execution_count": 10,
   "metadata": {},
   "outputs": [
    {
     "name": "stdout",
     "output_type": "stream",
     "text": [
      "[[[1 2 3]\n",
      "  [4 5 6]\n",
      "  [7 8 9]]\n",
      "\n",
      " [[4 5 6]\n",
      "  [5 7 8]\n",
      "  [7 1 2]]\n",
      "\n",
      " [[1 5 6]\n",
      "  [6 7 4]\n",
      "  [2 2 5]]]\n"
     ]
    },
    {
     "data": {
      "text/plain": [
       "(3, 3, 3)"
      ]
     },
     "execution_count": 10,
     "metadata": {},
     "output_type": "execute_result"
    }
   ],
   "source": [
    "array_3d = np.array([[[1,2,3],[4,5,6],[7,8,9]],[[4,5,6,],[5,7,8],[7,1,2]],[[1,5,6],[6,7,4],[2,2,5]]])\n",
    "print(array_3d)\n",
    "array_3d.ndim\n",
    "array_3d.shape"
   ]
  },
  {
   "cell_type": "code",
   "execution_count": 12,
   "metadata": {},
   "outputs": [],
   "source": [
    "array_of_zeros = np.zeros??"
   ]
  },
  {
   "cell_type": "code",
   "execution_count": 17,
   "metadata": {},
   "outputs": [
    {
     "name": "stdout",
     "output_type": "stream",
     "text": [
      "[[[0. 0. 0.]\n",
      "  [0. 0. 0.]\n",
      "  [0. 0. 0.]]\n",
      "\n",
      " [[0. 0. 0.]\n",
      "  [0. 0. 0.]\n",
      "  [0. 0. 0.]]\n",
      "\n",
      " [[0. 0. 0.]\n",
      "  [0. 0. 0.]\n",
      "  [0. 0. 0.]]]\n"
     ]
    }
   ],
   "source": [
    "array_of_zeros = np.zeros((3,3,3),dtype = float)\n",
    "print(array_of_zeros)"
   ]
  },
  {
   "cell_type": "code",
   "execution_count": 20,
   "metadata": {},
   "outputs": [
    {
     "name": "stdout",
     "output_type": "stream",
     "text": [
      "[['1' '1' '1' '1' '1']\n",
      " ['1' '1' '1' '1' '1']]\n"
     ]
    }
   ],
   "source": [
    "array_2d = np.ones((2,5),dtype = str)\n",
    "print(array_2d)"
   ]
  },
  {
   "cell_type": "markdown",
   "metadata": {},
   "source": [
    "# arange() and rehsape() function"
   ]
  },
  {
   "cell_type": "code",
   "execution_count": 29,
   "metadata": {},
   "outputs": [
    {
     "name": "stdout",
     "output_type": "stream",
     "text": [
      "[ 4  5  6  7  8  9 10 11 12 13 14 15 16 17 18 19 20 21 22 23 24 25 26 27\n",
      " 28 29 30 31 32 33 34 35 36 37 38 39]\n",
      "36\n"
     ]
    },
    {
     "data": {
      "text/plain": [
       "array([[[ 4,  5,  6,  7],\n",
       "        [ 8,  9, 10, 11],\n",
       "        [12, 13, 14, 15]],\n",
       "\n",
       "       [[16, 17, 18, 19],\n",
       "        [20, 21, 22, 23],\n",
       "        [24, 25, 26, 27]],\n",
       "\n",
       "       [[28, 29, 30, 31],\n",
       "        [32, 33, 34, 35],\n",
       "        [36, 37, 38, 39]]])"
      ]
     },
     "execution_count": 29,
     "metadata": {},
     "output_type": "execute_result"
    }
   ],
   "source": [
    "# arange is just like range fuction in python\n",
    "nums_in_array = np.arange(4,40)\n",
    "print(nums_in_array)\n",
    "print(nums_in_array.size)\n",
    "\n",
    "nums_in_array.reshape((3,3,4))"
   ]
  },
  {
   "cell_type": "markdown",
   "metadata": {},
   "source": [
    "# Linspace() fuction"
   ]
  },
  {
   "cell_type": "code",
   "execution_count": 33,
   "metadata": {},
   "outputs": [
    {
     "name": "stdout",
     "output_type": "stream",
     "text": [
      "[ 1.          1.31034483  1.62068966  1.93103448  2.24137931  2.55172414\n",
      "  2.86206897  3.17241379  3.48275862  3.79310345  4.10344828  4.4137931\n",
      "  4.72413793  5.03448276  5.34482759  5.65517241  5.96551724  6.27586207\n",
      "  6.5862069   6.89655172  7.20689655  7.51724138  7.82758621  8.13793103\n",
      "  8.44827586  8.75862069  9.06896552  9.37931034  9.68965517 10.        ]\n"
     ]
    }
   ],
   "source": [
    "# it gives you as much number as you want within the interval you have defined with equal spacing\n",
    "#like it you want 30 number with equal spacing within the interval of 1 to 10\n",
    "# or in simple Return evenly spaced numbers over a specified interval.\n",
    "\n",
    "nums_for_3d_array =np.linspace(1,10,30)\n",
    "print(nums_for_3d_array)"
   ]
  },
  {
   "cell_type": "code",
   "execution_count": 34,
   "metadata": {},
   "outputs": [
    {
     "data": {
      "text/plain": [
       "array([[[ 1.        ,  1.31034483],\n",
       "        [ 1.62068966,  1.93103448],\n",
       "        [ 2.24137931,  2.55172414],\n",
       "        [ 2.86206897,  3.17241379],\n",
       "        [ 3.48275862,  3.79310345]],\n",
       "\n",
       "       [[ 4.10344828,  4.4137931 ],\n",
       "        [ 4.72413793,  5.03448276],\n",
       "        [ 5.34482759,  5.65517241],\n",
       "        [ 5.96551724,  6.27586207],\n",
       "        [ 6.5862069 ,  6.89655172]],\n",
       "\n",
       "       [[ 7.20689655,  7.51724138],\n",
       "        [ 7.82758621,  8.13793103],\n",
       "        [ 8.44827586,  8.75862069],\n",
       "        [ 9.06896552,  9.37931034],\n",
       "        [ 9.68965517, 10.        ]]])"
      ]
     },
     "execution_count": 34,
     "metadata": {},
     "output_type": "execute_result"
    }
   ],
   "source": [
    "nums_for_3d_array.reshape((3,5,2))"
   ]
  },
  {
   "cell_type": "code",
   "execution_count": 43,
   "metadata": {},
   "outputs": [
    {
     "data": {
      "text/plain": [
       "array([[[ 1,  2,  3,  4,  5],\n",
       "        [ 6,  7,  8,  9, 10]],\n",
       "\n",
       "       [[11, 12, 13, 14, 15],\n",
       "        [16, 17, 18, 19, 20]],\n",
       "\n",
       "       [[21, 22, 23, 24, 25],\n",
       "        [26, 27, 28, 29, 30]]])"
      ]
     },
     "execution_count": 43,
     "metadata": {},
     "output_type": "execute_result"
    }
   ],
   "source": [
    "# One line syntax to generate and reshape matrix\n",
    "array = np.arange(1,31).reshape(3,2,5)\n",
    "array"
   ]
  },
  {
   "cell_type": "markdown",
   "metadata": {},
   "source": [
    "# ravel() function to convert array into 1d array\n"
   ]
  },
  {
   "cell_type": "code",
   "execution_count": 44,
   "metadata": {},
   "outputs": [
    {
     "name": "stdout",
     "output_type": "stream",
     "text": [
      "3\n",
      "1\n"
     ]
    }
   ],
   "source": [
    "#it returns a flattened array\n",
    "#Here we convert a 3d array to 1d array\n",
    "print(array.ndim)\n",
    "array = array.ravel()\n",
    "print(array.ndim)"
   ]
  },
  {
   "cell_type": "markdown",
   "metadata": {},
   "source": [
    "# Transpose() function"
   ]
  },
  {
   "cell_type": "code",
   "execution_count": 53,
   "metadata": {},
   "outputs": [
    {
     "name": "stdout",
     "output_type": "stream",
     "text": [
      "[[1 2 3]\n",
      " [4 5 6]\n",
      " [7 8 9]]\n"
     ]
    },
    {
     "data": {
      "text/plain": [
       "array([[1, 4, 7],\n",
       "       [2, 5, 8],\n",
       "       [3, 6, 9]])"
      ]
     },
     "execution_count": 53,
     "metadata": {},
     "output_type": "execute_result"
    }
   ],
   "source": [
    "array_2d = np.arange(1,10).reshape((3,3))\n",
    "print(array_2d)\n",
    "array_2d.transpose()"
   ]
  },
  {
   "cell_type": "markdown",
   "metadata": {},
   "source": [
    "# Element wise arithmetic matrix operations (+,*,/,-)"
   ]
  },
  {
   "cell_type": "code",
   "execution_count": 63,
   "metadata": {},
   "outputs": [
    {
     "name": "stdout",
     "output_type": "stream",
     "text": [
      "[[1 2 3]\n",
      " [4 5 6]\n",
      " [7 8 9]]\n",
      "[[10 11 12]\n",
      " [13 14 15]\n",
      " [16 17 18]]\n"
     ]
    }
   ],
   "source": [
    "array_1 = np.arange(1,10).reshape((3,3))\n",
    "array_2 = np.arange(10,19).reshape((3,3))\n",
    "print(array_1)\n",
    "print(array_2)"
   ]
  },
  {
   "cell_type": "code",
   "execution_count": 64,
   "metadata": {},
   "outputs": [
    {
     "data": {
      "text/plain": [
       "array([[11, 13, 15],\n",
       "       [17, 19, 21],\n",
       "       [23, 25, 27]])"
      ]
     },
     "execution_count": 64,
     "metadata": {},
     "output_type": "execute_result"
    }
   ],
   "source": [
    "np.add(array_1,array_2)"
   ]
  },
  {
   "cell_type": "code",
   "execution_count": 65,
   "metadata": {},
   "outputs": [
    {
     "data": {
      "text/plain": [
       "array([[-9, -9, -9],\n",
       "       [-9, -9, -9],\n",
       "       [-9, -9, -9]])"
      ]
     },
     "execution_count": 65,
     "metadata": {},
     "output_type": "execute_result"
    }
   ],
   "source": [
    "np.subtract(array_1,array_2)"
   ]
  },
  {
   "cell_type": "code",
   "execution_count": 70,
   "metadata": {},
   "outputs": [
    {
     "name": "stdout",
     "output_type": "stream",
     "text": [
      "[[ 10  22  36]\n",
      " [ 52  70  90]\n",
      " [112 136 162]]\n",
      "[[ 84  90  96]\n",
      " [201 216 231]\n",
      " [318 342 366]]\n",
      "[[ 84  90  96]\n",
      " [201 216 231]\n",
      " [318 342 366]]\n"
     ]
    }
   ],
   "source": [
    "#This is element wise multiplication not like we do matrix multiplication\n",
    "print(np.multiply(array_1,array_2))\n",
    "#In order to do matrix multiplication like we multiple first row with first column\n",
    "print(array_1 @ array_2)\n",
    "#OR\n",
    "print(np.dot(array_1, array_2))"
   ]
  },
  {
   "cell_type": "code",
   "execution_count": 71,
   "metadata": {},
   "outputs": [
    {
     "data": {
      "text/plain": [
       "array([[0.1       , 0.18181818, 0.25      ],\n",
       "       [0.30769231, 0.35714286, 0.4       ],\n",
       "       [0.4375    , 0.47058824, 0.5       ]])"
      ]
     },
     "execution_count": 71,
     "metadata": {},
     "output_type": "execute_result"
    }
   ],
   "source": [
    "np.divide(array_1, array_2)"
   ]
  },
  {
   "cell_type": "markdown",
   "metadata": {},
   "source": [
    "# Finding max value in array"
   ]
  },
  {
   "cell_type": "code",
   "execution_count": 86,
   "metadata": {},
   "outputs": [
    {
     "name": "stdout",
     "output_type": "stream",
     "text": [
      "[[10 11 12]\n",
      " [13 14 15]\n",
      " [16 17 18]]\n",
      "18\n"
     ]
    }
   ],
   "source": [
    "print(array_2)\n",
    "print(array_2.max())"
   ]
  },
  {
   "cell_type": "code",
   "execution_count": 88,
   "metadata": {},
   "outputs": [
    {
     "name": "stdout",
     "output_type": "stream",
     "text": [
      "8\n",
      "[16 17 18]\n",
      "[12 15 18]\n"
     ]
    }
   ],
   "source": [
    "#Finding index of this max value\n",
    "print(array_2.argmax())\n",
    "#Findind maximum values along axis 0 for coulmn and 1 for row\n",
    "#Maximum values among columns\n",
    "print(array_2.max(axis=0))\n",
    "#Maximum values along rows\n",
    "print(array_2.max(axis = 1))"
   ]
  },
  {
   "cell_type": "markdown",
   "metadata": {},
   "source": [
    "# Finding sum of matrix along rows and columns"
   ]
  },
  {
   "cell_type": "code",
   "execution_count": 93,
   "metadata": {},
   "outputs": [
    {
     "name": "stdout",
     "output_type": "stream",
     "text": [
      "[[1 2 3]\n",
      " [4 5 6]\n",
      " [7 8 9]]\n",
      "45\n",
      "[12 15 18]\n",
      "[ 6 15 24]\n"
     ]
    }
   ],
   "source": [
    "print(array_1)\n",
    "\n",
    "#to sum all the numbers in matrix\n",
    "print(np.sum(array_1))\n",
    "\n",
    "# Now sum along columns\n",
    "print(np.sum(array_1, axis = 0))\n",
    "\n",
    "# Sum along rows\n",
    "print(np.sum(array_1, axis = 1))"
   ]
  },
  {
   "cell_type": "code",
   "execution_count": 94,
   "metadata": {},
   "outputs": [
    {
     "data": {
      "text/plain": [
       "5.0"
      ]
     },
     "execution_count": 94,
     "metadata": {},
     "output_type": "execute_result"
    }
   ],
   "source": [
    "#Mean of array\n",
    "np.mean(array_1)"
   ]
  },
  {
   "cell_type": "code",
   "execution_count": 97,
   "metadata": {},
   "outputs": [
    {
     "data": {
      "text/plain": [
       "array([[1.        , 1.41421356, 1.73205081],\n",
       "       [2.        , 2.23606798, 2.44948974],\n",
       "       [2.64575131, 2.82842712, 3.        ]])"
      ]
     },
     "execution_count": 97,
     "metadata": {},
     "output_type": "execute_result"
    }
   ],
   "source": [
    "# Square root of each element in matrix\n",
    "np.sqrt(array_1)"
   ]
  },
  {
   "cell_type": "code",
   "execution_count": 100,
   "metadata": {},
   "outputs": [
    {
     "name": "stdout",
     "output_type": "stream",
     "text": [
      "[[2.71828183e+00 7.38905610e+00 2.00855369e+01]\n",
      " [5.45981500e+01 1.48413159e+02 4.03428793e+02]\n",
      " [1.09663316e+03 2.98095799e+03 8.10308393e+03]]\n",
      "[[0.         0.69314718 1.09861229]\n",
      " [1.38629436 1.60943791 1.79175947]\n",
      " [1.94591015 2.07944154 2.19722458]]\n"
     ]
    }
   ],
   "source": [
    "# Exponent of every element of matrix e ^ x\n",
    "print(np.exp(array_1))\n",
    "\n",
    "#Log of each element \n",
    "print(np.log(array_1))"
   ]
  },
  {
   "cell_type": "code",
   "execution_count": 102,
   "metadata": {},
   "outputs": [
    {
     "name": "stdout",
     "output_type": "stream",
     "text": [
      "[[1 2 3]\n",
      " [4 5 6]\n",
      " [7 8 9]]\n",
      "[[2.71828183e+00 7.38905610e+00 2.00855369e+01]\n",
      " [5.45981500e+01 1.48413159e+02 4.03428793e+02]\n",
      " [1.09663316e+03 2.98095799e+03 8.10308393e+03]]\n",
      "[[1. 2. 3.]\n",
      " [4. 5. 6.]\n",
      " [7. 8. 9.]]\n"
     ]
    }
   ],
   "source": [
    "#Actually here log function is natural log....lets demostarte as lne = 1\n",
    "print(array_1)\n",
    "arr = np.exp(array_1)\n",
    "print(arr)\n",
    "print(np.log(arr))\n",
    "# So first we applied e ^ x than we take ln and it cancels the effect of e"
   ]
  },
  {
   "cell_type": "code",
   "execution_count": 103,
   "metadata": {},
   "outputs": [
    {
     "data": {
      "text/plain": [
       "array([[0.        , 0.30103   , 0.47712125],\n",
       "       [0.60205999, 0.69897   , 0.77815125],\n",
       "       [0.84509804, 0.90308999, 0.95424251]])"
      ]
     },
     "execution_count": 103,
     "metadata": {},
     "output_type": "execute_result"
    }
   ],
   "source": [
    "#We can also find Natural log as\n",
    "np.log10(array_1)"
   ]
  },
  {
   "cell_type": "code",
   "execution_count": null,
   "metadata": {},
   "outputs": [],
   "source": []
  }
 ],
 "metadata": {
  "kernelspec": {
   "display_name": "Python 3",
   "language": "python",
   "name": "python3"
  },
  "language_info": {
   "codemirror_mode": {
    "name": "ipython",
    "version": 3
   },
   "file_extension": ".py",
   "mimetype": "text/x-python",
   "name": "python",
   "nbconvert_exporter": "python",
   "pygments_lexer": "ipython3",
   "version": "3.7.6"
  }
 },
 "nbformat": 4,
 "nbformat_minor": 4
}
