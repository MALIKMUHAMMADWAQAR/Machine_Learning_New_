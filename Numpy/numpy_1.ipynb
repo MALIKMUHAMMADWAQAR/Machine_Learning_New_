{
 "cells": [
  {
   "cell_type": "code",
   "execution_count": 1,
   "metadata": {},
   "outputs": [],
   "source": [
    "import numpy as np"
   ]
  },
  {
   "cell_type": "code",
   "execution_count": 8,
   "metadata": {},
   "outputs": [
    {
     "name": "stdout",
     "output_type": "stream",
     "text": [
      "5\n",
      "1\n",
      "int32\n"
     ]
    },
    {
     "data": {
      "text/plain": [
       "(5,)"
      ]
     },
     "execution_count": 8,
     "metadata": {},
     "output_type": "execute_result"
    }
   ],
   "source": [
    "array_1 = np.array([1,2,3,4,5])\n",
    "\n",
    "#size represents number of elements in array\n",
    "print(array_1.size)\n",
    "\n",
    "#ndim represents that its a 1 dimensional, 2 dimensional or 3 dimensional array\n",
    "print(array_1.ndim)\n",
    "\n",
    "#dtype represents the data type of elements stored in array\n",
    "print(array_1.dtype)\n",
    "\n",
    "#type represents the variable type in python like it shows below that its a numpy array\n",
    "type(array_1)\n",
    "\n",
    "#shape represents the number of rows and columns in a array\n",
    "array_1.shape\n"
   ]
  },
  {
   "cell_type": "code",
   "execution_count": 11,
   "metadata": {},
   "outputs": [
    {
     "name": "stdout",
     "output_type": "stream",
     "text": [
      "[[1 2 3]\n",
      " [4 5 6]\n",
      " [7 8 9]]\n",
      "[[list([1, 2, 3]) list([4, 5, 6]) list([7, 8, 9])]\n",
      " [4 5 6]\n",
      " [7 8 9]\n",
      " [1 2 3]]\n"
     ]
    }
   ],
   "source": [
    "#Like wise two dimensional array \n",
    "array_2d = np.array([[1,2,3],\n",
    "                    [4,5,6],\n",
    "                    [7,8,9]])\n",
    "print(array_2d)\n",
    "\n",
    "#And three dimensional array\n",
    "\n",
    "array_3d = np.array([[[1,2,3],\n",
    "                      [4,5,6],\n",
    "                      [7,8,9]],[4,5,6],[7,8,9],[1,2,3]])\n",
    "\n",
    "print(array_3d)"
   ]
  },
  {
   "cell_type": "code",
   "execution_count": null,
   "metadata": {},
   "outputs": [],
   "source": []
  }
 ],
 "metadata": {
  "kernelspec": {
   "display_name": "Python 3",
   "language": "python",
   "name": "python3"
  },
  "language_info": {
   "codemirror_mode": {
    "name": "ipython",
    "version": 3
   },
   "file_extension": ".py",
   "mimetype": "text/x-python",
   "name": "python",
   "nbconvert_exporter": "python",
   "pygments_lexer": "ipython3",
   "version": "3.7.6"
  }
 },
 "nbformat": 4,
 "nbformat_minor": 4
}
