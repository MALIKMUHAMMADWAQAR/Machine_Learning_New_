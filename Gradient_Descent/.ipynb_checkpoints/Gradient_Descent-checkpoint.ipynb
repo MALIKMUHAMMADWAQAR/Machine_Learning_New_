{
 "cells": [
  {
   "cell_type": "code",
   "execution_count": 4,
   "metadata": {},
   "outputs": [],
   "source": [
    "import numpy as np\n",
    "import math\n",
    "import matplotlib.pyplot as plt"
   ]
  },
  {
   "cell_type": "code",
   "execution_count": 41,
   "metadata": {},
   "outputs": [],
   "source": [
    "x = np.array([1,2,3,4,5])\n",
    "y = np.array([5,7,9,11,13])"
   ]
  },
  {
   "cell_type": "code",
   "execution_count": 42,
   "metadata": {},
   "outputs": [
    {
     "data": {
      "text/plain": [
       "<matplotlib.collections.PathCollection at 0x2da209f9348>"
      ]
     },
     "execution_count": 42,
     "metadata": {},
     "output_type": "execute_result"
    },
    {
     "data": {
      "image/png": "[encoded data removed]",
      "text/plain": [
       "<Figure size 432x288 with 1 Axes>"
      ]
     },
     "metadata": {
      "needs_background": "light"
     },
     "output_type": "display_data"
    }
   ],
   "source": [
    "plt.scatter(x,y, color = 'red', marker = \"*\")"
   ]
  },
  {
   "cell_type": "code",
   "execution_count": 39,
   "metadata": {},
   "outputs": [],
   "source": [
    "def gradient_descent(x,y):\n",
    "    m_curr = 0 \n",
    "    b_curr = 0\n",
    "    n = len(y)\n",
    "    learning_rate = 0.01\n",
    "    \n",
    "    for i in range(1000):\n",
    "        y_pred = m_curr * x + b_curr\n",
    "        squared_errors = [error for error in ((y-y_pred))**2]\n",
    "        mean_squared_error = sum(squared_errors) / n\n",
    "        par_der_wrt_m = (-2/n)*sum(x*(y - y_pred))\n",
    "        par_der_wrt_b = (-2/n)*sum(y - y_pred)\n",
    "        m_curr = m_curr - learning_rate* par_der_wrt_m\n",
    "        b_curr = b_curr - learning_rate* par_der_wrt_b\n",
    "        #print(\"Mean_Squared_Error : {}, slope : {}, intercept: {}\".format(mean_squared_error, m_curr, b_curr))\n",
    "    return m_curr,b_curr\n",
    "        \n",
    "    "
   ]
  },
  {
   "cell_type": "code",
   "execution_count": 40,
   "metadata": {},
   "outputs": [
    {
     "data": {
      "text/plain": [
       "[<matplotlib.lines.Line2D at 0x2da1f7626c8>]"
      ]
     },
     "execution_count": 40,
     "metadata": {},
     "output_type": "execute_result"
    },
    {
     "data": {
      "image/png": "[encoded data removed]",
      "text/plain": [
       "<Figure size 432x288 with 1 Axes>"
      ]
     },
     "metadata": {
      "needs_background": "light"
     },
     "output_type": "display_data"
    }
   ],
   "source": [
    "m_curr , b_curr = gradient_descent(x,y)\n",
    "y_pred = m_curr * x + b_curr\n",
    "%matplotlib inline\n",
    "plt.scatter(x,y, color = 'red', marker = \"*\")\n",
    "plt.plot(x, y_pred)"
   ]
  }
 ],
 "metadata": {
  "kernelspec": {
   "display_name": "Python 3",
   "language": "python",
   "name": "python3"
  },
  "language_info": {
   "codemirror_mode": {
    "name": "ipython",
    "version": 3
   },
   "file_extension": ".py",
   "mimetype": "text/x-python",
   "name": "python",
   "nbconvert_exporter": "python",
   "pygments_lexer": "ipython3",
   "version": "3.7.6"
  }
 },
 "nbformat": 4,
 "nbformat_minor": 4
}
