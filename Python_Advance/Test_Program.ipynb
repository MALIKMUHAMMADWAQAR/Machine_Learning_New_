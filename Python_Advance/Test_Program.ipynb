{
 "cells": [
  {
   "cell_type": "code",
   "execution_count": 1,
   "metadata": {},
   "outputs": [
    {
     "name": "stdout",
     "output_type": "stream",
     "text": [
      "\n",
      "Welcome to Python3!\n",
      "\n",
      "             ____\n",
      "            / . .\\\n",
      "            \\  ---<\n",
      "             \\  /\n",
      "   __________/ /\n",
      "-=:___________/\n",
      "\n",
      "<3, Juno\n",
      "\n"
     ]
    }
   ],
   "source": [
    "how_many_snakes = 1\n",
    "snake_string = \"\"\"\n",
    "Welcome to Python3!\n",
    "\n",
    "             ____\n",
    "            / . .\\\\\n",
    "            \\  ---<\n",
    "             \\  /\n",
    "   __________/ /\n",
    "-=:___________/\n",
    "\n",
    "<3, Juno\n",
    "\"\"\"\n",
    "\n",
    "\n",
    "print(snake_string * how_many_snakes)"
   ]
  },
  {
   "cell_type": "code",
   "execution_count": 6,
   "metadata": {},
   "outputs": [
    {
     "name": "stdout",
     "output_type": "stream",
     "text": [
      "Enter your namemalik Muhammad WAqar\n",
      "Hello MALIK MUHAMMAD WAQAR\n",
      "Hello Malik Muhammad Waqar\n"
     ]
    }
   ],
   "source": [
    "name = input(\"Enter your name\")\n",
    "print(\"Hello {}\".format(name.upper()))\n",
    "print(\"Hello {}\".format(name.title()))\n"
   ]
  },
  {
   "cell_type": "code",
   "execution_count": 20,
   "metadata": {},
   "outputs": [
    {
     "name": "stdout",
     "output_type": "stream",
     "text": [
      "Enter names separated by commas Malik Waqar, Yawar Abbas, Haider Ali\n",
      "Enter assignment marks separated by commas 13,14,12\n",
      "Enter gardes separated by commas A-,A+,A-\n",
      "Hi Malik Waqar,\n",
      "\n",
      "This is a reminder that you have 13 assignments left to submit before you can graduate. You're current grade is A- and can increase if you submit all assignments before the due date.\n",
      "\n",
      "\n",
      "Hi  Yawar Abbas,\n",
      "\n",
      "This is a reminder that you have 14 assignments left to submit before you can graduate. You're current grade is A+ and can increase if you submit all assignments before the due date.\n",
      "\n",
      "\n",
      "Hi  Haider Ali,\n",
      "\n",
      "This is a reminder that you have 12 assignments left to submit before you can graduate. You're current grade is A- and can increase if you submit all assignments before the due date.\n",
      "\n",
      "\n"
     ]
    }
   ],
   "source": [
    "names = input(\"Enter names separated by commas \").split(\",\")\n",
    "assignments =  input(\"Enter assignment marks separated by commas \").split(\",\")\n",
    "grades =  input(\"Enter gardes separated by commas \").split(\",\")\n",
    "\n",
    "# message string to be used for each student\n",
    "# HINT: use .format() with this string in your for loop\n",
    "message = \"Hi {},\\n\\nThis is a reminder that you have {} assignments left to \\\n",
    "submit before you can graduate. You're current grade is {} and can increase \\\n",
    "if you submit all assignments before the due date.\\n\\n\"\n",
    "\n",
    "for every_student in list(zip(names,assignments,grades)):\n",
    "    print(message.format(*every_student))\n"
   ]
  },
  {
   "cell_type": "code",
   "execution_count": null,
   "metadata": {},
   "outputs": [],
   "source": []
  }
 ],
 "metadata": {
  "kernelspec": {
   "display_name": "Python 3",
   "language": "python",
   "name": "python3"
  },
  "language_info": {
   "codemirror_mode": {
    "name": "ipython",
    "version": 3
   },
   "file_extension": ".py",
   "mimetype": "text/x-python",
   "name": "python",
   "nbconvert_exporter": "python",
   "pygments_lexer": "ipython3",
   "version": "3.7.6"
  }
 },
 "nbformat": 4,
 "nbformat_minor": 4
}
