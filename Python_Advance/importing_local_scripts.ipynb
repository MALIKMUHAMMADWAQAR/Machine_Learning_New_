{
 "cells": [
  {
   "cell_type": "code",
   "execution_count": 1,
   "metadata": {},
   "outputs": [
    {
     "name": "stdout",
     "output_type": "stream",
     "text": [
      "Best of luck ! for more look at module\n",
      "Enter a number : 12\n",
      "Enter a number : 14\n",
      "Enter a number : 15\n",
      "Enter a number : 16\n",
      "Enter a number : 17\n",
      "Enter a number : 18\n",
      "Enter a number : 19\n",
      "Enter a number : 21\n",
      "Enter a number : 22\n",
      "Enter a number : 27\n",
      "Sum of even number is : 82\n"
     ]
    }
   ],
   "source": [
    "import even_addition as ed\n",
    "number =[]\n",
    "index = 0\n",
    "while index < 10:\n",
    "    try:\n",
    "        num = int(input(\"Enter a number : \"))\n",
    "        index += 1\n",
    "        number.append(num)\n",
    "    except:\n",
    "        print(\"Please Enter an integer\")\n",
    "        \n",
    "ed.fun(number)"
   ]
  },
  {
   "cell_type": "markdown",
   "metadata": {},
   "source": []
  }
 ],
 "metadata": {
  "kernelspec": {
   "display_name": "Python 3",
   "language": "python",
   "name": "python3"
  },
  "language_info": {
   "codemirror_mode": {
    "name": "ipython",
    "version": 3
   },
   "file_extension": ".py",
   "mimetype": "text/x-python",
   "name": "python",
   "nbconvert_exporter": "python",
   "pygments_lexer": "ipython3",
   "version": "3.7.6"
  }
 },
 "nbformat": 4,
 "nbformat_minor": 4
}
