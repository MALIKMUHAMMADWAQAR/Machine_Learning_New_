{
 "cells": [
  {
   "cell_type": "markdown",
   "metadata": {},
   "source": [
    "Write a function called generate_password that selects three random words from the list of words word_list and concatenates them into a single string. Your function should not accept any arguments and should reference the global variable word_list to build the password.\n",
    "\n",
    "password_generator.py\n",
    "words.txt"
   ]
  },
  {
   "cell_type": "code",
   "execution_count": 5,
   "metadata": {},
   "outputs": [
    {
     "name": "stdout",
     "output_type": "stream",
     "text": [
      "intoalicetired\n"
     ]
    }
   ],
   "source": [
    "\n",
    "# TODO: First import the `random` module\n",
    "import random\n",
    "\n",
    "# We begin with an empty `word_list`\n",
    "word_file = \"words.txt\"\n",
    "word_list = []\n",
    "\n",
    "# We fill up the word_list from the `words.txt` file\n",
    "with open(word_file,'r') as words:\n",
    "    for line in words:\n",
    "# remove white space and make everything lowercase\n",
    "        word = line.strip().lower()\n",
    "# don't include words that are too long or too short\n",
    "        if 3 < len(word) < 8:\n",
    "            word_list.append(word)\n",
    "\n",
    "# TODO: Add your function generate_password below\n",
    "def generate_password():\n",
    "    password = \"\"\n",
    "    for i in range(3):\n",
    "        password += random.choice(word_list)\n",
    "    return password\n",
    "         \n",
    "    \n",
    "# It should return a string consisting of three random words \n",
    "# concatenated together without spaces\n",
    "\n",
    "\n",
    "\n",
    "# Now we test the function\n",
    "print(generate_password())\n",
    "\n"
   ]
  },
  {
   "cell_type": "code",
   "execution_count": null,
   "metadata": {},
   "outputs": [],
   "source": []
  }
 ],
 "metadata": {
  "kernelspec": {
   "display_name": "Python 3",
   "language": "python",
   "name": "python3"
  },
  "language_info": {
   "codemirror_mode": {
    "name": "ipython",
    "version": 3
   },
   "file_extension": ".py",
   "mimetype": "text/x-python",
   "name": "python",
   "nbconvert_exporter": "python",
   "pygments_lexer": "ipython3",
   "version": "3.7.6"
  }
 },
 "nbformat": 4,
 "nbformat_minor": 4
}
