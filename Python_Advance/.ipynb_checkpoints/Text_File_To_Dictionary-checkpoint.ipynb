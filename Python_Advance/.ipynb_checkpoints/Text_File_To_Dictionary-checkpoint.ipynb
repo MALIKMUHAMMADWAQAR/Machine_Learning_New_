{
 "cells": [
  {
   "cell_type": "code",
   "execution_count": 27,
   "metadata": {},
   "outputs": [
    {
     "name": "stdout",
     "output_type": "stream",
     "text": [
      "{'A': ' African Daisy\\n', 'B': ' Bellflower\\n', 'C': ' Coral Bells\\n', 'D': ' Desert Rose\\n', 'E': ' English Bluebell\\n', 'F': ' Forget Me Not\\n', 'G': ' Goldenrod\\n', 'H': ' Heliotrope\\n', 'I': ' Impatiens\\n', 'J': ' Jamesia americana\\n', 'K': ' Kangaroo Paw\\n', 'L': ' Lily of the Valley\\n', 'M': ' Monks Hood\\n', 'N': ' Nemophila\\n', 'O': ' Ox Eye Daisy\\n', 'P': ' Peace Lily\\n', 'Q': ' Quaker Ladies\\n', 'R': ' Rain Lily\\n', 'S': ' Snapdragon\\n', 'T': ' Trumpet Vine\\n', 'U': ' Urn Plant\\n', 'V': ' Viola wittrockiana\\n', 'W': ' Whirling Butterflies\\n', 'X': ' Xanthoceras sorbifolium\\n', 'Y': ' Yellow Archangel\\n', 'Z': ' Zinnia elegans'}\n",
      "Enter your first name : malik\n",
      "Enter your last name : waqar\n",
      " Monks Hood\n",
      "\n"
     ]
    }
   ],
   "source": [
    "ls = []\n",
    "flow_dic = {}\n",
    "with open(\"flowers.txt\",'r') as fl:\n",
    "    for flower in fl:\n",
    "        ls.append(flower.split(':'))\n",
    "    for pair in ls:\n",
    "        flow_dic.update(dict(ls))\n",
    "        \n",
    "print(flow_dic)\n",
    "\n",
    "first_name = input(\"Enter your first name : \")\n",
    "last_name = input(\"Enter your last name : \")\n",
    "first_alpha = first_name[0].upper()\n",
    "\n",
    "if (first_alpha in flow_dic):\n",
    "    print(flow_dic[first_alpha])\n",
    "\n",
    "        \n",
    "\n",
    "\n",
    "        #ls.update(dict(flower)\n",
    "\n",
    "\n"
   ]
  },
  {
   "cell_type": "markdown",
   "metadata": {},
   "source": [
    "# ALTERNATIVE CODE WITH GOOD APPROACH"
   ]
  },
  {
   "cell_type": "code",
   "execution_count": 28,
   "metadata": {},
   "outputs": [
    {
     "name": "stdout",
     "output_type": "stream",
     "text": [
      "Enter your First [space] Last name only: MALIK WAQAR\n",
      "Unique flower name with the first letter: Monks Hood\n"
     ]
    }
   ],
   "source": [
    "def create_flowerdict(filename):\n",
    "    flower_dict = {}\n",
    "    with open(filename) as f:\n",
    "        for line in f:\n",
    "            letter = line.split(\": \")[0].lower() \n",
    "            flower = line.split(\": \")[1].strip()\n",
    "            flower_dict[letter] = flower\n",
    "    return flower_dict\n",
    "\n",
    "# Main function that prompts for user input, parses out the first letter\n",
    "# includes function call for create_flowerdict to create dictionary\n",
    "def main(): \n",
    "    flower_d = create_flowerdict('flowers.txt')\n",
    "    full_name = input(\"Enter your First [space] Last name only: \")\n",
    "    first_name = full_name[0].lower()\n",
    "    first_letter = first_name[0]\n",
    "# print command that prints final input with value from corresponding key in dictionary\n",
    "    print(\"Unique flower name with the first letter: {}\".format(flower_d[first_letter]))\n",
    "\n",
    "main()"
   ]
  },
  {
   "cell_type": "code",
   "execution_count": null,
   "metadata": {},
   "outputs": [],
   "source": []
  }
 ],
 "metadata": {
  "kernelspec": {
   "display_name": "Python 3",
   "language": "python",
   "name": "python3"
  },
  "language_info": {
   "codemirror_mode": {
    "name": "ipython",
    "version": 3
   },
   "file_extension": ".py",
   "mimetype": "text/x-python",
   "name": "python",
   "nbconvert_exporter": "python",
   "pygments_lexer": "ipython3",
   "version": "3.7.6"
  }
 },
 "nbformat": 4,
 "nbformat_minor": 4
}
